{
 "cells": [
  {
   "cell_type": "code",
   "execution_count": 43,
   "metadata": {
    "collapsed": false
   },
   "outputs": [],
   "source": [
    "import pandas as pd\n",
    "import seaborn as sns\n",
    "import numpy as np\n",
    "import matplotlib.pyplot as plt\n",
    "import hypertools as hyp\n",
    "%matplotlib inline  \n",
    "\n",
    "sns.set_style(\"whitegrid\")"
   ]
  },
  {
   "cell_type": "code",
   "execution_count": 4,
   "metadata": {
    "collapsed": true
   },
   "outputs": [],
   "source": [
    "features_df = pd.read_csv('1112028701-5fSGPkcoJNxUoRraRcJ9WQ.csv')"
   ]
  },
  {
   "cell_type": "code",
   "execution_count": 5,
   "metadata": {
    "collapsed": false
   },
   "outputs": [
    {
     "data": {
      "text/html": [
       "<div>\n",
       "<table border=\"1\" class=\"dataframe\">\n",
       "  <thead>\n",
       "    <tr style=\"text-align: right;\">\n",
       "      <th></th>\n",
       "      <th>id</th>\n",
       "      <th>energy</th>\n",
       "      <th>liveness</th>\n",
       "      <th>tempo</th>\n",
       "      <th>speechiness</th>\n",
       "      <th>acousticness</th>\n",
       "      <th>instrumentalness</th>\n",
       "      <th>time_signature</th>\n",
       "      <th>danceability</th>\n",
       "      <th>key</th>\n",
       "      <th>duration_ms</th>\n",
       "      <th>loudness</th>\n",
       "      <th>valence</th>\n",
       "      <th>mode</th>\n",
       "      <th>type</th>\n",
       "      <th>uri</th>\n",
       "    </tr>\n",
       "  </thead>\n",
       "  <tbody>\n",
       "    <tr>\n",
       "      <th>0</th>\n",
       "      <td>6nz8W5q940pEthdQfjwYhh</td>\n",
       "      <td>0.213</td>\n",
       "      <td>0.101</td>\n",
       "      <td>134.968</td>\n",
       "      <td>0.0329</td>\n",
       "      <td>0.882000</td>\n",
       "      <td>0.851000</td>\n",
       "      <td>3</td>\n",
       "      <td>0.354</td>\n",
       "      <td>2</td>\n",
       "      <td>198444</td>\n",
       "      <td>-16.463</td>\n",
       "      <td>0.158</td>\n",
       "      <td>0</td>\n",
       "      <td>audio_features</td>\n",
       "      <td>spotify:track:6nz8W5q940pEthdQfjwYhh</td>\n",
       "    </tr>\n",
       "    <tr>\n",
       "      <th>1</th>\n",
       "      <td>7sBRwgYSf6dwyIi9T6uY7y</td>\n",
       "      <td>0.223</td>\n",
       "      <td>0.114</td>\n",
       "      <td>109.466</td>\n",
       "      <td>0.0651</td>\n",
       "      <td>0.970000</td>\n",
       "      <td>0.888000</td>\n",
       "      <td>4</td>\n",
       "      <td>0.758</td>\n",
       "      <td>8</td>\n",
       "      <td>213637</td>\n",
       "      <td>-13.275</td>\n",
       "      <td>0.265</td>\n",
       "      <td>1</td>\n",
       "      <td>audio_features</td>\n",
       "      <td>spotify:track:7sBRwgYSf6dwyIi9T6uY7y</td>\n",
       "    </tr>\n",
       "    <tr>\n",
       "      <th>2</th>\n",
       "      <td>4PYoRZpEoJHAi22nbeGA0b</td>\n",
       "      <td>0.844</td>\n",
       "      <td>0.238</td>\n",
       "      <td>119.987</td>\n",
       "      <td>0.0407</td>\n",
       "      <td>0.000186</td>\n",
       "      <td>0.539000</td>\n",
       "      <td>4</td>\n",
       "      <td>0.539</td>\n",
       "      <td>1</td>\n",
       "      <td>199800</td>\n",
       "      <td>-5.604</td>\n",
       "      <td>0.466</td>\n",
       "      <td>1</td>\n",
       "      <td>audio_features</td>\n",
       "      <td>spotify:track:4PYoRZpEoJHAi22nbeGA0b</td>\n",
       "    </tr>\n",
       "    <tr>\n",
       "      <th>3</th>\n",
       "      <td>3JCvbJlquC5ZhdXhHq62Z5</td>\n",
       "      <td>0.991</td>\n",
       "      <td>0.290</td>\n",
       "      <td>83.995</td>\n",
       "      <td>0.0960</td>\n",
       "      <td>0.000018</td>\n",
       "      <td>0.000000</td>\n",
       "      <td>4</td>\n",
       "      <td>0.477</td>\n",
       "      <td>5</td>\n",
       "      <td>192261</td>\n",
       "      <td>-2.692</td>\n",
       "      <td>0.364</td>\n",
       "      <td>0</td>\n",
       "      <td>audio_features</td>\n",
       "      <td>spotify:track:3JCvbJlquC5ZhdXhHq62Z5</td>\n",
       "    </tr>\n",
       "    <tr>\n",
       "      <th>4</th>\n",
       "      <td>3tyFkV691mLN162OMYP5Vi</td>\n",
       "      <td>0.659</td>\n",
       "      <td>0.118</td>\n",
       "      <td>106.913</td>\n",
       "      <td>0.0293</td>\n",
       "      <td>0.002110</td>\n",
       "      <td>0.000017</td>\n",
       "      <td>4</td>\n",
       "      <td>0.573</td>\n",
       "      <td>3</td>\n",
       "      <td>266947</td>\n",
       "      <td>-5.271</td>\n",
       "      <td>0.204</td>\n",
       "      <td>0</td>\n",
       "      <td>audio_features</td>\n",
       "      <td>spotify:track:3tyFkV691mLN162OMYP5Vi</td>\n",
       "    </tr>\n",
       "  </tbody>\n",
       "</table>\n",
       "</div>"
      ],
      "text/plain": [
       "                       id  energy  liveness    tempo  speechiness  \\\n",
       "0  6nz8W5q940pEthdQfjwYhh   0.213     0.101  134.968       0.0329   \n",
       "1  7sBRwgYSf6dwyIi9T6uY7y   0.223     0.114  109.466       0.0651   \n",
       "2  4PYoRZpEoJHAi22nbeGA0b   0.844     0.238  119.987       0.0407   \n",
       "3  3JCvbJlquC5ZhdXhHq62Z5   0.991     0.290   83.995       0.0960   \n",
       "4  3tyFkV691mLN162OMYP5Vi   0.659     0.118  106.913       0.0293   \n",
       "\n",
       "   acousticness  instrumentalness  time_signature  danceability  key  \\\n",
       "0      0.882000          0.851000               3         0.354    2   \n",
       "1      0.970000          0.888000               4         0.758    8   \n",
       "2      0.000186          0.539000               4         0.539    1   \n",
       "3      0.000018          0.000000               4         0.477    5   \n",
       "4      0.002110          0.000017               4         0.573    3   \n",
       "\n",
       "   duration_ms  loudness  valence  mode            type  \\\n",
       "0       198444   -16.463    0.158     0  audio_features   \n",
       "1       213637   -13.275    0.265     1  audio_features   \n",
       "2       199800    -5.604    0.466     1  audio_features   \n",
       "3       192261    -2.692    0.364     0  audio_features   \n",
       "4       266947    -5.271    0.204     0  audio_features   \n",
       "\n",
       "                                    uri  \n",
       "0  spotify:track:6nz8W5q940pEthdQfjwYhh  \n",
       "1  spotify:track:7sBRwgYSf6dwyIi9T6uY7y  \n",
       "2  spotify:track:4PYoRZpEoJHAi22nbeGA0b  \n",
       "3  spotify:track:3JCvbJlquC5ZhdXhHq62Z5  \n",
       "4  spotify:track:3tyFkV691mLN162OMYP5Vi  "
      ]
     },
     "execution_count": 5,
     "metadata": {},
     "output_type": "execute_result"
    }
   ],
   "source": [
    "features_df.head()"
   ]
  },
  {
   "cell_type": "code",
   "execution_count": 6,
   "metadata": {
    "collapsed": false
   },
   "outputs": [
    {
     "name": "stdout",
     "output_type": "stream",
     "text": [
      "<class 'pandas.core.frame.DataFrame'>\n",
      "RangeIndex: 705 entries, 0 to 704\n",
      "Data columns (total 16 columns):\n",
      "id                  705 non-null object\n",
      "energy              705 non-null float64\n",
      "liveness            705 non-null float64\n",
      "tempo               705 non-null float64\n",
      "speechiness         705 non-null float64\n",
      "acousticness        705 non-null float64\n",
      "instrumentalness    705 non-null float64\n",
      "time_signature      705 non-null int64\n",
      "danceability        705 non-null float64\n",
      "key                 705 non-null int64\n",
      "duration_ms         705 non-null int64\n",
      "loudness            705 non-null float64\n",
      "valence             705 non-null float64\n",
      "mode                705 non-null int64\n",
      "type                705 non-null object\n",
      "uri                 705 non-null object\n",
      "dtypes: float64(9), int64(4), object(3)\n",
      "memory usage: 88.2+ KB\n"
     ]
    }
   ],
   "source": [
    "features_df.info()"
   ]
  },
  {
   "cell_type": "code",
   "execution_count": 7,
   "metadata": {
    "collapsed": false
   },
   "outputs": [
    {
     "data": {
      "text/html": [
       "<div>\n",
       "<table border=\"1\" class=\"dataframe\">\n",
       "  <thead>\n",
       "    <tr style=\"text-align: right;\">\n",
       "      <th></th>\n",
       "      <th>energy</th>\n",
       "      <th>liveness</th>\n",
       "      <th>tempo</th>\n",
       "      <th>speechiness</th>\n",
       "      <th>acousticness</th>\n",
       "      <th>instrumentalness</th>\n",
       "      <th>time_signature</th>\n",
       "      <th>danceability</th>\n",
       "      <th>key</th>\n",
       "      <th>duration_ms</th>\n",
       "      <th>loudness</th>\n",
       "      <th>valence</th>\n",
       "      <th>mode</th>\n",
       "    </tr>\n",
       "  </thead>\n",
       "  <tbody>\n",
       "    <tr>\n",
       "      <th>count</th>\n",
       "      <td>705.000000</td>\n",
       "      <td>705.000000</td>\n",
       "      <td>705.000000</td>\n",
       "      <td>705.000000</td>\n",
       "      <td>705.000000</td>\n",
       "      <td>705.000000</td>\n",
       "      <td>705.000000</td>\n",
       "      <td>705.000000</td>\n",
       "      <td>705.000000</td>\n",
       "      <td>705.000000</td>\n",
       "      <td>705.000000</td>\n",
       "      <td>705.000000</td>\n",
       "      <td>705.000000</td>\n",
       "    </tr>\n",
       "    <tr>\n",
       "      <th>mean</th>\n",
       "      <td>0.693043</td>\n",
       "      <td>0.184952</td>\n",
       "      <td>124.726033</td>\n",
       "      <td>0.064389</td>\n",
       "      <td>0.169982</td>\n",
       "      <td>0.166389</td>\n",
       "      <td>3.919149</td>\n",
       "      <td>0.548540</td>\n",
       "      <td>5.489362</td>\n",
       "      <td>268839.582979</td>\n",
       "      <td>-7.211206</td>\n",
       "      <td>0.454392</td>\n",
       "      <td>0.551773</td>\n",
       "    </tr>\n",
       "    <tr>\n",
       "      <th>std</th>\n",
       "      <td>0.218178</td>\n",
       "      <td>0.155091</td>\n",
       "      <td>26.948960</td>\n",
       "      <td>0.058233</td>\n",
       "      <td>0.269039</td>\n",
       "      <td>0.305278</td>\n",
       "      <td>0.325069</td>\n",
       "      <td>0.167452</td>\n",
       "      <td>3.475599</td>\n",
       "      <td>87209.176094</td>\n",
       "      <td>3.420787</td>\n",
       "      <td>0.227066</td>\n",
       "      <td>0.497665</td>\n",
       "    </tr>\n",
       "    <tr>\n",
       "      <th>min</th>\n",
       "      <td>0.056300</td>\n",
       "      <td>0.015600</td>\n",
       "      <td>68.992000</td>\n",
       "      <td>0.023200</td>\n",
       "      <td>0.000004</td>\n",
       "      <td>0.000000</td>\n",
       "      <td>1.000000</td>\n",
       "      <td>0.154000</td>\n",
       "      <td>0.000000</td>\n",
       "      <td>55973.000000</td>\n",
       "      <td>-24.738000</td>\n",
       "      <td>0.035600</td>\n",
       "      <td>0.000000</td>\n",
       "    </tr>\n",
       "    <tr>\n",
       "      <th>25%</th>\n",
       "      <td>0.546000</td>\n",
       "      <td>0.097000</td>\n",
       "      <td>105.821000</td>\n",
       "      <td>0.034200</td>\n",
       "      <td>0.001820</td>\n",
       "      <td>0.000002</td>\n",
       "      <td>4.000000</td>\n",
       "      <td>0.432000</td>\n",
       "      <td>2.000000</td>\n",
       "      <td>212310.000000</td>\n",
       "      <td>-8.966000</td>\n",
       "      <td>0.279000</td>\n",
       "      <td>0.000000</td>\n",
       "    </tr>\n",
       "    <tr>\n",
       "      <th>50%</th>\n",
       "      <td>0.748000</td>\n",
       "      <td>0.121000</td>\n",
       "      <td>123.781000</td>\n",
       "      <td>0.044800</td>\n",
       "      <td>0.019700</td>\n",
       "      <td>0.000572</td>\n",
       "      <td>4.000000</td>\n",
       "      <td>0.548000</td>\n",
       "      <td>6.000000</td>\n",
       "      <td>244720.000000</td>\n",
       "      <td>-6.485000</td>\n",
       "      <td>0.433000</td>\n",
       "      <td>1.000000</td>\n",
       "    </tr>\n",
       "    <tr>\n",
       "      <th>75%</th>\n",
       "      <td>0.873000</td>\n",
       "      <td>0.221000</td>\n",
       "      <td>140.049000</td>\n",
       "      <td>0.066000</td>\n",
       "      <td>0.223000</td>\n",
       "      <td>0.138000</td>\n",
       "      <td>4.000000</td>\n",
       "      <td>0.671000</td>\n",
       "      <td>9.000000</td>\n",
       "      <td>304560.000000</td>\n",
       "      <td>-4.626000</td>\n",
       "      <td>0.628000</td>\n",
       "      <td>1.000000</td>\n",
       "    </tr>\n",
       "    <tr>\n",
       "      <th>max</th>\n",
       "      <td>0.997000</td>\n",
       "      <td>0.991000</td>\n",
       "      <td>245.997000</td>\n",
       "      <td>0.497000</td>\n",
       "      <td>0.979000</td>\n",
       "      <td>0.950000</td>\n",
       "      <td>5.000000</td>\n",
       "      <td>0.928000</td>\n",
       "      <td>11.000000</td>\n",
       "      <td>759360.000000</td>\n",
       "      <td>-1.606000</td>\n",
       "      <td>0.966000</td>\n",
       "      <td>1.000000</td>\n",
       "    </tr>\n",
       "  </tbody>\n",
       "</table>\n",
       "</div>"
      ],
      "text/plain": [
       "           energy    liveness       tempo  speechiness  acousticness  \\\n",
       "count  705.000000  705.000000  705.000000   705.000000    705.000000   \n",
       "mean     0.693043    0.184952  124.726033     0.064389      0.169982   \n",
       "std      0.218178    0.155091   26.948960     0.058233      0.269039   \n",
       "min      0.056300    0.015600   68.992000     0.023200      0.000004   \n",
       "25%      0.546000    0.097000  105.821000     0.034200      0.001820   \n",
       "50%      0.748000    0.121000  123.781000     0.044800      0.019700   \n",
       "75%      0.873000    0.221000  140.049000     0.066000      0.223000   \n",
       "max      0.997000    0.991000  245.997000     0.497000      0.979000   \n",
       "\n",
       "       instrumentalness  time_signature  danceability         key  \\\n",
       "count        705.000000      705.000000    705.000000  705.000000   \n",
       "mean           0.166389        3.919149      0.548540    5.489362   \n",
       "std            0.305278        0.325069      0.167452    3.475599   \n",
       "min            0.000000        1.000000      0.154000    0.000000   \n",
       "25%            0.000002        4.000000      0.432000    2.000000   \n",
       "50%            0.000572        4.000000      0.548000    6.000000   \n",
       "75%            0.138000        4.000000      0.671000    9.000000   \n",
       "max            0.950000        5.000000      0.928000   11.000000   \n",
       "\n",
       "         duration_ms    loudness     valence        mode  \n",
       "count     705.000000  705.000000  705.000000  705.000000  \n",
       "mean   268839.582979   -7.211206    0.454392    0.551773  \n",
       "std     87209.176094    3.420787    0.227066    0.497665  \n",
       "min     55973.000000  -24.738000    0.035600    0.000000  \n",
       "25%    212310.000000   -8.966000    0.279000    0.000000  \n",
       "50%    244720.000000   -6.485000    0.433000    1.000000  \n",
       "75%    304560.000000   -4.626000    0.628000    1.000000  \n",
       "max    759360.000000   -1.606000    0.966000    1.000000  "
      ]
     },
     "execution_count": 7,
     "metadata": {},
     "output_type": "execute_result"
    }
   ],
   "source": [
    "features_df.describe()"
   ]
  },
  {
   "cell_type": "code",
   "execution_count": 48,
   "metadata": {
    "collapsed": false
   },
   "outputs": [],
   "source": [
    "feature_columns = ['energy', 'liveness', 'speechiness', 'acousticness', 'instrumentalness', 'danceability', 'valence']\n",
    "mean_values = {}\n",
    "std_values = {}\n",
    "\n",
    "for feature in feature_columns:\n",
    "    mean = features_df[feature].mean()\n",
    "    mean_values[feature] = [mean]\n",
    "    std = features_df[feature].std()\n",
    "    std_values[feature] = [std]\n",
    "\n",
    "feature_means_df = pd.DataFrame(data=mean_values)\n",
    "std_values_df = pd.DataFrame(data=std_values)"
   ]
  },
  {
   "cell_type": "code",
   "execution_count": 44,
   "metadata": {
    "collapsed": false
   },
   "outputs": [
    {
     "data": {
      "image/png": "[encoded data removed]",
      "text/plain": [
       "<matplotlib.figure.Figure at 0x11eebdba8>"
      ]
     },
     "metadata": {},
     "output_type": "display_data"
    }
   ],
   "source": [
    "feature_plot = sns.barplot(data=feature_means_df, palette=sns.color_palette(\"Blues\"))\n",
    "\n",
    "for item in feature_plot.get_xticklabels():\n",
    "    item.set_rotation(45)"
   ]
  },
  {
   "cell_type": "code",
   "execution_count": 49,
   "metadata": {
    "collapsed": false
   },
   "outputs": [
    {
     "data": {
      "image/png": "[encoded data removed]",
      "text/plain": [
       "<matplotlib.figure.Figure at 0x11f036d30>"
      ]
     },
     "metadata": {},
     "output_type": "display_data"
    }
   ],
   "source": [
    "std_plot = sns.barplot(data=std_values_df, palette=sns.color_palette(\"Blues\"))\n",
    "\n",
    "for item in std_plot.get_xticklabels():\n",
    "    item.set_rotation(45)"
   ]
  },
  {
   "cell_type": "code",
   "execution_count": 45,
   "metadata": {
    "collapsed": false
   },
   "outputs": [
    {
     "data": {
      "text/html": [
       "<div>\n",
       "<table border=\"1\" class=\"dataframe\">\n",
       "  <thead>\n",
       "    <tr style=\"text-align: right;\">\n",
       "      <th></th>\n",
       "      <th>id</th>\n",
       "      <th>energy</th>\n",
       "      <th>liveness</th>\n",
       "      <th>speechiness</th>\n",
       "      <th>acousticness</th>\n",
       "      <th>instrumentalness</th>\n",
       "      <th>danceability</th>\n",
       "      <th>valence</th>\n",
       "    </tr>\n",
       "  </thead>\n",
       "  <tbody>\n",
       "    <tr>\n",
       "      <th>0</th>\n",
       "      <td>6nz8W5q940pEthdQfjwYhh</td>\n",
       "      <td>0.213</td>\n",
       "      <td>0.101</td>\n",
       "      <td>0.0329</td>\n",
       "      <td>0.882000</td>\n",
       "      <td>0.851000</td>\n",
       "      <td>0.354</td>\n",
       "      <td>0.158</td>\n",
       "    </tr>\n",
       "    <tr>\n",
       "      <th>1</th>\n",
       "      <td>7sBRwgYSf6dwyIi9T6uY7y</td>\n",
       "      <td>0.223</td>\n",
       "      <td>0.114</td>\n",
       "      <td>0.0651</td>\n",
       "      <td>0.970000</td>\n",
       "      <td>0.888000</td>\n",
       "      <td>0.758</td>\n",
       "      <td>0.265</td>\n",
       "    </tr>\n",
       "    <tr>\n",
       "      <th>2</th>\n",
       "      <td>4PYoRZpEoJHAi22nbeGA0b</td>\n",
       "      <td>0.844</td>\n",
       "      <td>0.238</td>\n",
       "      <td>0.0407</td>\n",
       "      <td>0.000186</td>\n",
       "      <td>0.539000</td>\n",
       "      <td>0.539</td>\n",
       "      <td>0.466</td>\n",
       "    </tr>\n",
       "    <tr>\n",
       "      <th>3</th>\n",
       "      <td>3JCvbJlquC5ZhdXhHq62Z5</td>\n",
       "      <td>0.991</td>\n",
       "      <td>0.290</td>\n",
       "      <td>0.0960</td>\n",
       "      <td>0.000018</td>\n",
       "      <td>0.000000</td>\n",
       "      <td>0.477</td>\n",
       "      <td>0.364</td>\n",
       "    </tr>\n",
       "    <tr>\n",
       "      <th>4</th>\n",
       "      <td>3tyFkV691mLN162OMYP5Vi</td>\n",
       "      <td>0.659</td>\n",
       "      <td>0.118</td>\n",
       "      <td>0.0293</td>\n",
       "      <td>0.002110</td>\n",
       "      <td>0.000017</td>\n",
       "      <td>0.573</td>\n",
       "      <td>0.204</td>\n",
       "    </tr>\n",
       "    <tr>\n",
       "      <th>5</th>\n",
       "      <td>29lBMAu32Yaooj3QdzKwMO</td>\n",
       "      <td>0.949</td>\n",
       "      <td>0.316</td>\n",
       "      <td>0.0730</td>\n",
       "      <td>0.000012</td>\n",
       "      <td>0.002340</td>\n",
       "      <td>0.413</td>\n",
       "      <td>0.364</td>\n",
       "    </tr>\n",
       "    <tr>\n",
       "      <th>6</th>\n",
       "      <td>24l3sA2bx0DdM9d4pfgywU</td>\n",
       "      <td>0.878</td>\n",
       "      <td>0.225</td>\n",
       "      <td>0.0407</td>\n",
       "      <td>0.003460</td>\n",
       "      <td>0.000022</td>\n",
       "      <td>0.486</td>\n",
       "      <td>0.316</td>\n",
       "    </tr>\n",
       "    <tr>\n",
       "      <th>7</th>\n",
       "      <td>1JIEHfirWnJETcZZegwqXD</td>\n",
       "      <td>0.460</td>\n",
       "      <td>0.337</td>\n",
       "      <td>0.0307</td>\n",
       "      <td>0.223000</td>\n",
       "      <td>0.000728</td>\n",
       "      <td>0.469</td>\n",
       "      <td>0.390</td>\n",
       "    </tr>\n",
       "    <tr>\n",
       "      <th>8</th>\n",
       "      <td>250Y5ghha5UHY1mMgWZ2nD</td>\n",
       "      <td>0.299</td>\n",
       "      <td>0.108</td>\n",
       "      <td>0.0391</td>\n",
       "      <td>0.901000</td>\n",
       "      <td>0.950000</td>\n",
       "      <td>0.386</td>\n",
       "      <td>0.832</td>\n",
       "    </tr>\n",
       "    <tr>\n",
       "      <th>9</th>\n",
       "      <td>0ec5rFBAAB1rbC4qqqYazX</td>\n",
       "      <td>0.436</td>\n",
       "      <td>0.139</td>\n",
       "      <td>0.0344</td>\n",
       "      <td>0.404000</td>\n",
       "      <td>0.309000</td>\n",
       "      <td>0.722</td>\n",
       "      <td>0.379</td>\n",
       "    </tr>\n",
       "  </tbody>\n",
       "</table>\n",
       "</div>"
      ],
      "text/plain": [
       "                       id  energy  liveness  speechiness  acousticness  \\\n",
       "0  6nz8W5q940pEthdQfjwYhh   0.213     0.101       0.0329      0.882000   \n",
       "1  7sBRwgYSf6dwyIi9T6uY7y   0.223     0.114       0.0651      0.970000   \n",
       "2  4PYoRZpEoJHAi22nbeGA0b   0.844     0.238       0.0407      0.000186   \n",
       "3  3JCvbJlquC5ZhdXhHq62Z5   0.991     0.290       0.0960      0.000018   \n",
       "4  3tyFkV691mLN162OMYP5Vi   0.659     0.118       0.0293      0.002110   \n",
       "5  29lBMAu32Yaooj3QdzKwMO   0.949     0.316       0.0730      0.000012   \n",
       "6  24l3sA2bx0DdM9d4pfgywU   0.878     0.225       0.0407      0.003460   \n",
       "7  1JIEHfirWnJETcZZegwqXD   0.460     0.337       0.0307      0.223000   \n",
       "8  250Y5ghha5UHY1mMgWZ2nD   0.299     0.108       0.0391      0.901000   \n",
       "9  0ec5rFBAAB1rbC4qqqYazX   0.436     0.139       0.0344      0.404000   \n",
       "\n",
       "   instrumentalness  danceability  valence  \n",
       "0          0.851000         0.354    0.158  \n",
       "1          0.888000         0.758    0.265  \n",
       "2          0.539000         0.539    0.466  \n",
       "3          0.000000         0.477    0.364  \n",
       "4          0.000017         0.573    0.204  \n",
       "5          0.002340         0.413    0.364  \n",
       "6          0.000022         0.486    0.316  \n",
       "7          0.000728         0.469    0.390  \n",
       "8          0.950000         0.386    0.832  \n",
       "9          0.309000         0.722    0.379  "
      ]
     },
     "execution_count": 45,
     "metadata": {},
     "output_type": "execute_result"
    }
   ],
   "source": [
    "cleaned_feature_df = features_df.drop(['tempo', 'time_signature', 'key', 'duration_ms', 'loudness', 'mode', 'type', 'uri'], axis=1)\n",
    "cleaned_feature_df.head(10)"
   ]
  },
  {
   "cell_type": "markdown",
   "metadata": {},
   "source": [
    "## Clustering by K-means"
   ]
  },
  {
   "cell_type": "code",
   "execution_count": 50,
   "metadata": {
    "collapsed": true
   },
   "outputs": [],
   "source": [
    "from sklearn.cluster import KMeans"
   ]
  },
  {
   "cell_type": "code",
   "execution_count": 51,
   "metadata": {
    "collapsed": true
   },
   "outputs": [],
   "source": [
    "kmeans = KMeans(n_clusters=5)"
   ]
  },
  {
   "cell_type": "code",
   "execution_count": 53,
   "metadata": {
    "collapsed": false
   },
   "outputs": [
    {
     "data": {
      "text/plain": [
       "KMeans(algorithm='auto', copy_x=True, init='k-means++', max_iter=300,\n",
       "    n_clusters=5, n_init=10, n_jobs=1, precompute_distances='auto',\n",
       "    random_state=None, tol=0.0001, verbose=0)"
      ]
     },
     "execution_count": 53,
     "metadata": {},
     "output_type": "execute_result"
    }
   ],
   "source": [
    "kmeans.fit(cleaned_feature_df.drop('id', axis=1))"
   ]
  },
  {
   "cell_type": "code",
   "execution_count": 54,
   "metadata": {
    "collapsed": false
   },
   "outputs": [
    {
     "data": {
      "text/plain": [
       "array([[ 0.80239636,  0.19871273,  0.06902655,  0.0359336 ,  0.02501581,\n",
       "         0.43266545,  0.33855491],\n",
       "       [ 0.69659804,  0.15157353,  0.06047843,  0.05043471,  0.78008824,\n",
       "         0.67453922,  0.43407059],\n",
       "       [ 0.76155729,  0.18365365,  0.07074635,  0.07838195,  0.02733726,\n",
       "         0.65526042,  0.70046354],\n",
       "       [ 0.39140467,  0.20052804,  0.04937664,  0.63882243,  0.03093824,\n",
       "         0.54701869,  0.39109626],\n",
       "       [ 0.30289655,  0.12298966,  0.04746552,  0.7382069 ,  0.76886207,\n",
       "         0.50324138,  0.22870345]])"
      ]
     },
     "execution_count": 54,
     "metadata": {},
     "output_type": "execute_result"
    }
   ],
   "source": [
    "kmeans.cluster_centers_"
   ]
  },
  {
   "cell_type": "code",
   "execution_count": 55,
   "metadata": {
    "collapsed": false
   },
   "outputs": [
    {
     "data": {
      "text/plain": [
       "array([4, 4, 1, 0, 0, 0, 0, 0, 4, 3, 0, 0, 3, 0, 0, 1, 0, 2, 0, 0, 1, 4, 0,\n",
       "       3, 2, 2, 2, 4, 1, 0, 0, 2, 0, 0, 0, 0, 3, 0, 1, 2, 0, 0, 0, 0, 4, 0,\n",
       "       1, 1, 0, 3, 0, 4, 2, 0, 3, 0, 2, 0, 0, 3, 2, 4, 0, 0, 1, 4, 1, 0, 0,\n",
       "       0, 2, 0, 2, 0, 1, 0, 3, 3, 0, 2, 3, 3, 0, 2, 1, 1, 2, 3, 2, 4, 0, 0,\n",
       "       0, 2, 2, 3, 4, 2, 0, 3, 4, 3, 1, 1, 1, 2, 0, 2, 0, 4, 3, 3, 3, 3, 0,\n",
       "       4, 0, 2, 1, 3, 3, 1, 2, 0, 0, 0, 0, 0, 4, 1, 0, 3, 3, 3, 0, 2, 0, 0,\n",
       "       3, 0, 3, 3, 3, 3, 3, 0, 2, 0, 3, 2, 2, 3, 2, 4, 3, 1, 3, 3, 2, 3, 4,\n",
       "       3, 0, 1, 0, 0, 0, 0, 1, 2, 2, 0, 4, 0, 2, 4, 4, 3, 4, 0, 2, 3, 0, 3,\n",
       "       3, 2, 0, 2, 3, 0, 3, 1, 1, 0, 0, 1, 2, 1, 0, 4, 0, 2, 0, 0, 0, 1, 0,\n",
       "       3, 1, 0, 0, 0, 2, 0, 0, 3, 3, 3, 3, 1, 0, 2, 2, 3, 2, 2, 3, 1, 2, 0,\n",
       "       0, 0, 1, 0, 0, 0, 0, 0, 2, 3, 3, 3, 1, 0, 1, 0, 0, 3, 1, 1, 1, 1, 0,\n",
       "       0, 1, 3, 2, 2, 1, 0, 3, 2, 0, 0, 0, 0, 2, 3, 0, 2, 0, 0, 0, 0, 0, 0,\n",
       "       0, 0, 2, 0, 0, 3, 2, 2, 3, 2, 0, 1, 2, 1, 1, 0, 2, 1, 1, 2, 3, 0, 2,\n",
       "       2, 0, 0, 3, 1, 0, 1, 1, 0, 2, 2, 1, 0, 2, 1, 0, 0, 2, 0, 0, 0, 0, 0,\n",
       "       0, 2, 2, 0, 0, 3, 3, 2, 0, 3, 0, 2, 2, 2, 0, 1, 2, 0, 0, 3, 2, 2, 0,\n",
       "       2, 2, 2, 4, 0, 0, 2, 2, 3, 3, 0, 0, 0, 1, 1, 1, 1, 1, 2, 0, 0, 2, 2,\n",
       "       2, 2, 3, 0, 1, 2, 2, 0, 0, 2, 0, 3, 1, 0, 0, 3, 2, 4, 3, 2, 0, 3, 2,\n",
       "       1, 3, 2, 0, 0, 2, 3, 0, 2, 0, 0, 0, 0, 2, 0, 2, 0, 0, 2, 2, 2, 2, 0,\n",
       "       0, 0, 0, 2, 0, 0, 0, 2, 0, 0, 0, 0, 2, 2, 3, 2, 2, 0, 2, 0, 3, 3, 2,\n",
       "       0, 2, 2, 2, 2, 0, 2, 0, 0, 3, 2, 1, 2, 0, 1, 1, 3, 0, 0, 0, 1, 1, 0,\n",
       "       0, 0, 0, 1, 0, 3, 2, 2, 1, 3, 2, 2, 3, 1, 2, 1, 2, 1, 3, 2, 3, 1, 0,\n",
       "       2, 3, 0, 0, 0, 0, 3, 0, 3, 2, 2, 3, 3, 3, 1, 2, 2, 0, 3, 1, 1, 2, 0,\n",
       "       0, 2, 2, 2, 2, 0, 0, 0, 0, 1, 0, 4, 2, 2, 2, 2, 2, 0, 1, 2, 2, 1, 0,\n",
       "       0, 2, 0, 3, 2, 2, 0, 2, 1, 0, 0, 0, 2, 0, 3, 0, 0, 0, 0, 2, 3, 0, 1,\n",
       "       0, 2, 2, 0, 1, 0, 0, 4, 3, 0, 0, 1, 4, 2, 0, 0, 0, 0, 0, 2, 2, 0, 2,\n",
       "       1, 1, 0, 2, 2, 3, 2, 3, 0, 0, 1, 2, 2, 1, 1, 0, 0, 0, 0, 1, 2, 0, 2,\n",
       "       0, 2, 0, 0, 0, 2, 3, 0, 2, 2, 0, 0, 2, 3, 3, 3, 1, 1, 2, 0, 2, 2, 2,\n",
       "       1, 1, 2, 0, 2, 2, 0, 1, 0, 2, 0, 2, 0, 1, 2, 0, 0, 2, 2, 4, 2, 0, 2,\n",
       "       0, 1, 0, 1, 1, 2, 0, 0, 2, 2, 2, 1, 0, 0, 1, 1, 1, 2, 2, 0, 0, 2, 0,\n",
       "       0, 0, 2, 0, 3, 0, 0, 2, 2, 2, 2, 2, 1, 2, 0, 2, 3, 2, 2, 1, 0, 1, 3,\n",
       "       2, 4, 0, 0, 0, 2, 3, 0, 3, 0, 1, 3, 0, 2, 1], dtype=int32)"
      ]
     },
     "execution_count": 55,
     "metadata": {},
     "output_type": "execute_result"
    }
   ],
   "source": [
    "kmeans.labels_"
   ]
  },
  {
   "cell_type": "code",
   "execution_count": 56,
   "metadata": {
    "collapsed": true
   },
   "outputs": [],
   "source": [
    "clustered_features_df = cleaned_feature_df\n",
    "clustered_features_df['cluster'] = kmeans.labels_"
   ]
  },
  {
   "cell_type": "code",
   "execution_count": 57,
   "metadata": {
    "collapsed": false
   },
   "outputs": [
    {
     "data": {
      "text/html": [
       "<div>\n",
       "<table border=\"1\" class=\"dataframe\">\n",
       "  <thead>\n",
       "    <tr style=\"text-align: right;\">\n",
       "      <th></th>\n",
       "      <th>id</th>\n",
       "      <th>energy</th>\n",
       "      <th>liveness</th>\n",
       "      <th>speechiness</th>\n",
       "      <th>acousticness</th>\n",
       "      <th>instrumentalness</th>\n",
       "      <th>danceability</th>\n",
       "      <th>valence</th>\n",
       "      <th>cluster</th>\n",
       "    </tr>\n",
       "  </thead>\n",
       "  <tbody>\n",
       "    <tr>\n",
       "      <th>0</th>\n",
       "      <td>6nz8W5q940pEthdQfjwYhh</td>\n",
       "      <td>0.213</td>\n",
       "      <td>0.101</td>\n",
       "      <td>0.0329</td>\n",
       "      <td>0.882000</td>\n",
       "      <td>0.851000</td>\n",
       "      <td>0.354</td>\n",
       "      <td>0.158</td>\n",
       "      <td>4</td>\n",
       "    </tr>\n",
       "    <tr>\n",
       "      <th>1</th>\n",
       "      <td>7sBRwgYSf6dwyIi9T6uY7y</td>\n",
       "      <td>0.223</td>\n",
       "      <td>0.114</td>\n",
       "      <td>0.0651</td>\n",
       "      <td>0.970000</td>\n",
       "      <td>0.888000</td>\n",
       "      <td>0.758</td>\n",
       "      <td>0.265</td>\n",
       "      <td>4</td>\n",
       "    </tr>\n",
       "    <tr>\n",
       "      <th>2</th>\n",
       "      <td>4PYoRZpEoJHAi22nbeGA0b</td>\n",
       "      <td>0.844</td>\n",
       "      <td>0.238</td>\n",
       "      <td>0.0407</td>\n",
       "      <td>0.000186</td>\n",
       "      <td>0.539000</td>\n",
       "      <td>0.539</td>\n",
       "      <td>0.466</td>\n",
       "      <td>1</td>\n",
       "    </tr>\n",
       "    <tr>\n",
       "      <th>3</th>\n",
       "      <td>3JCvbJlquC5ZhdXhHq62Z5</td>\n",
       "      <td>0.991</td>\n",
       "      <td>0.290</td>\n",
       "      <td>0.0960</td>\n",
       "      <td>0.000018</td>\n",
       "      <td>0.000000</td>\n",
       "      <td>0.477</td>\n",
       "      <td>0.364</td>\n",
       "      <td>0</td>\n",
       "    </tr>\n",
       "    <tr>\n",
       "      <th>4</th>\n",
       "      <td>3tyFkV691mLN162OMYP5Vi</td>\n",
       "      <td>0.659</td>\n",
       "      <td>0.118</td>\n",
       "      <td>0.0293</td>\n",
       "      <td>0.002110</td>\n",
       "      <td>0.000017</td>\n",
       "      <td>0.573</td>\n",
       "      <td>0.204</td>\n",
       "      <td>0</td>\n",
       "    </tr>\n",
       "  </tbody>\n",
       "</table>\n",
       "</div>"
      ],
      "text/plain": [
       "                       id  energy  liveness  speechiness  acousticness  \\\n",
       "0  6nz8W5q940pEthdQfjwYhh   0.213     0.101       0.0329      0.882000   \n",
       "1  7sBRwgYSf6dwyIi9T6uY7y   0.223     0.114       0.0651      0.970000   \n",
       "2  4PYoRZpEoJHAi22nbeGA0b   0.844     0.238       0.0407      0.000186   \n",
       "3  3JCvbJlquC5ZhdXhHq62Z5   0.991     0.290       0.0960      0.000018   \n",
       "4  3tyFkV691mLN162OMYP5Vi   0.659     0.118       0.0293      0.002110   \n",
       "\n",
       "   instrumentalness  danceability  valence  cluster  \n",
       "0          0.851000         0.354    0.158        4  \n",
       "1          0.888000         0.758    0.265        4  \n",
       "2          0.539000         0.539    0.466        1  \n",
       "3          0.000000         0.477    0.364        0  \n",
       "4          0.000017         0.573    0.204        0  "
      ]
     },
     "execution_count": 57,
     "metadata": {},
     "output_type": "execute_result"
    }
   ],
   "source": [
    "clustered_features_df.head()"
   ]
  },
  {
   "cell_type": "code",
   "execution_count": 68,
   "metadata": {
    "collapsed": false
   },
   "outputs": [
    {
     "data": {
      "text/plain": [
       "<seaborn.axisgrid.FacetGrid at 0x1210913c8>"
      ]
     },
     "execution_count": 68,
     "metadata": {},
     "output_type": "execute_result"
    },
    {
     "data": {
      "image/png": "[encoded data removed]",
      "text/plain": [
       "<matplotlib.figure.Figure at 0x121081588>"
      ]
     },
     "metadata": {},
     "output_type": "display_data"
    }
   ],
   "source": [
    "clustered_features_df_plot = sns.FacetGrid(data=clustered_features_df, hue=\"cluster\")\n",
    "clustered_features_df_plot.map(plt.scatter, 'danceability', 'instrumentalness')"
   ]
  },
  {
   "cell_type": "code",
   "execution_count": null,
   "metadata": {
    "collapsed": true
   },
   "outputs": [],
   "source": []
  }
 ],
 "metadata": {
  "anaconda-cloud": {},
  "kernelspec": {
   "display_name": "Python [default]",
   "language": "python",
   "name": "python3"
  },
  "language_info": {
   "codemirror_mode": {
    "name": "ipython",
    "version": 3
   },
   "file_extension": ".py",
   "mimetype": "text/x-python",
   "name": "python",
   "nbconvert_exporter": "python",
   "pygments_lexer": "ipython3",
   "version": "3.5.2"
  }
 },
 "nbformat": 4,
 "nbformat_minor": 1
}
